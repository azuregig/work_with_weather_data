{
 "cells": [
  {
   "cell_type": "code",
   "execution_count": null,
   "metadata": {},
   "outputs": [],
   "source": [
    "# prototyping weather datahub integration\n",
    "\n",
    "see also https://github.com/MetOffice/weather_datahub_utilities/blob/main/atmospheric_order_download/cda_download.py\n"
   ]
  },
  {
   "cell_type": "code",
   "execution_count": 1,
   "metadata": {},
   "outputs": [],
   "source": [
    "import csv, os\n",
    "import requests\n",
    "import argparse\n",
    "import time\n",
    "from datetime import datetime\n",
    "import queue\n",
    "import threading\n",
    "import uuid"
   ]
  },
  {
   "cell_type": "code",
   "execution_count": 10,
   "metadata": {},
   "outputs": [],
   "source": [
    "#MODEL_LIST = [\"mo-global\", \"mo-uk\", \"mo-uk-latlon\", \"mo-mogrepsg\"]\n",
    "MODEL_LIST = [\"mo-mogrepsg\"]\n",
    "BASE_URL = \"https://api-metoffice.apiconnect.ibmcloud.com/metoffice/production/1.0.0\"\n",
    "debugMode = False\n",
    "printUrl = True\n",
    "retryCount = 3"
   ]
  },
  {
   "cell_type": "code",
   "execution_count": 5,
   "metadata": {},
   "outputs": [
    {
     "data": {
      "text/plain": [
       "True"
      ]
     },
     "execution_count": 5,
     "metadata": {},
     "output_type": "execute_result"
    }
   ],
   "source": [
    "from dotenv import load_dotenv\n",
    "\n",
    "load_dotenv()  # take environment variables from .env. - now available in os.environ"
   ]
  },
  {
   "cell_type": "code",
   "execution_count": 6,
   "metadata": {},
   "outputs": [],
   "source": [
    "requestHeaders = {\"x-ibm-client-id\": os.environ.get('clientid'), \"x-ibm-client-secret\": os.environ.get('secret')}\n"
   ]
  },
  {
   "cell_type": "code",
   "execution_count": 7,
   "metadata": {},
   "outputs": [],
   "source": [
    "ordHeaders = {\"Accept\": \"application/json\"}\n",
    "ordHeaders.update(requestHeaders)"
   ]
  },
  {
   "cell_type": "code",
   "execution_count": 12,
   "metadata": {},
   "outputs": [
    {
     "name": "stdout",
     "output_type": "stream",
     "text": [
      "get_my_orders:  https://api-metoffice.apiconnect.ibmcloud.com/metoffice/production/1.0.0/orders?detail=MINIMAL\n",
      "ERROR:  Unable to get my orders list. Status code:  401\n"
     ]
    },
    {
     "data": {
      "text/plain": [
       "{'httpCode': '401',\n",
       " 'httpMessage': 'Unauthorized',\n",
       " 'moreInformation': 'Invalid client id or secret.'}"
      ]
     },
     "execution_count": 12,
     "metadata": {},
     "output_type": "execute_result"
    },
    {
     "ename": "",
     "evalue": "",
     "output_type": "error",
     "traceback": [
      "\u001b[1;31mThe Kernel crashed while executing code in the the current cell or a previous cell. Please review the code in the cell(s) to identify a possible cause of the failure. Click <a href='https://aka.ms/vscodeJupyterKernelCrash'>here</a> for more info. View Jupyter <a href='command:jupyter.viewOutput'>log</a> for further details."
     ]
    }
   ],
   "source": [
    "   \n",
    "\n",
    "\n",
    "ordurl = BASE_URL + \"/orders?detail=MINIMAL\"\n",
    "ordr = requests.get(ordurl, headers=ordHeaders)\n",
    "if printUrl == True:\n",
    "    print(\"get_my_orders: \", ordurl)\n",
    "    if ordurl != ordr.url:\n",
    "        print(\"redirected to: \", ordr.url)\n",
    "\n",
    "if ordr.status_code != 200:\n",
    "    print(\"ERROR:  Unable to get my orders list. Status code: \", ordr.status_code)\n",
    "    exit()\n",
    "orddetails = ordr.json()\n",
    "orddetails"
   ]
  },
  {
   "cell_type": "code",
   "execution_count": 8,
   "metadata": {},
   "outputs": [
    {
     "data": {
      "text/plain": [
       "{'Accept': 'application/json',\n",
       " 'x-ibm-client-id': 'd6e00d0daf22080fbdfd755d87b5b057',\n",
       " 'x-ibm-client-secret': '50a3d7bceafe3a8115041f8d9f2cec7c'}"
      ]
     },
     "execution_count": 8,
     "metadata": {},
     "output_type": "execute_result"
    }
   ],
   "source": [
    "ordHeaders"
   ]
  },
  {
   "cell_type": "code",
   "execution_count": null,
   "metadata": {},
   "outputs": [],
   "source": []
  }
 ],
 "metadata": {
  "kernelspec": {
   "display_name": "py38-formrecfunc",
   "language": "python",
   "name": "py38-formrecfunc"
  },
  "language_info": {
   "codemirror_mode": {
    "name": "ipython",
    "version": 3
   },
   "file_extension": ".py",
   "mimetype": "text/x-python",
   "name": "python",
   "nbconvert_exporter": "python",
   "pygments_lexer": "ipython3",
   "version": "3.8.13"
  },
  "orig_nbformat": 4
 },
 "nbformat": 4,
 "nbformat_minor": 2
}
